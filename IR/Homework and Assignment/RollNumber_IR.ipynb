{
 "cells": [
  {
   "cell_type": "markdown",
   "metadata": {
    "id": "erfK8t1iuudL"
   },
   "source": [
    "##Task 1\n",
    "\n",
    "###1.1 Write a function that reurns Count number of lines in txt file"
   ]
  },
  {
   "cell_type": "code",
   "execution_count": 2,
   "metadata": {
    "id": "gfMPfvKluuD4"
   },
   "outputs": [],
   "source": [
    "def NumOfLines(filename):\n",
    "  \n",
    "  \n",
    "  #Write your logic here\n",
    "\n",
    "  return count\n",
    "\n",
    "\n"
   ]
  },
  {
   "cell_type": "code",
   "execution_count": null,
   "metadata": {
    "id": "vZK_nMSwz5I_"
   },
   "outputs": [],
   "source": [
    "count = NumOfLines(file.txt)\n",
    "print(\"Number of Lines are \", count)"
   ]
  },
  {
   "cell_type": "markdown",
   "metadata": {
    "id": "CbKMN0PsvTc4"
   },
   "source": [
    "###1.2 Write a function that reurns Count number of words in txt file"
   ]
  },
  {
   "cell_type": "code",
   "execution_count": null,
   "metadata": {
    "id": "-iWt8XAvuss3"
   },
   "outputs": [],
   "source": [
    "\n",
    "def NumOfWords(filename):\n",
    "  #Write your logic here\n",
    "  return words\n"
   ]
  },
  {
   "cell_type": "code",
   "execution_count": null,
   "metadata": {
    "id": "EkHkdf1Svovt"
   },
   "outputs": [],
   "source": [
    "num = NumOfWords(file.txt)\n",
    "print(\"Number of words are \", num)"
   ]
  },
  {
   "cell_type": "markdown",
   "metadata": {
    "id": "j33bUTELvtQW"
   },
   "source": [
    "##Task 2\n",
    "Write a function that reurns a dataframe with two columns having stop words in one col and their count in the other."
   ]
  },
  {
   "cell_type": "code",
   "execution_count": null,
   "metadata": {
    "id": "xEr9ZDyIvsQ-"
   },
   "outputs": [],
   "source": [
    "def CreateDF(fileName):\n",
    "\n",
    "\n",
    "    #Write your logic here\n",
    "  \n",
    "  \n",
    "    return df\n"
   ]
  },
  {
   "cell_type": "code",
   "execution_count": null,
   "metadata": {
    "id": "Q1E80nKiwAos"
   },
   "outputs": [],
   "source": [
    "df = CreateDF(fileName)\n",
    "df"
   ]
  },
  {
   "cell_type": "markdown",
   "metadata": {
    "id": "sRp5uBLKwD1I"
   },
   "source": [
    "##Task 3\n",
    "Now generate a txt file named RollnumberWS.txt having all content of the given file but excluding stopwords."
   ]
  },
  {
   "cell_type": "code",
   "execution_count": null,
   "metadata": {
    "id": "RZul2aEMwI5k"
   },
   "outputs": [],
   "source": [
    "def WithoutSW(filename, filetowritein):\n",
    "\n",
    "\n",
    "    #Write your logic here\n"
   ]
  },
  {
   "cell_type": "code",
   "execution_count": null,
   "metadata": {
    "id": "aAlyQTV2wXJj"
   },
   "outputs": [],
   "source": [
    "WithoutSW(filename, filetowritein)"
   ]
  },
  {
   "cell_type": "markdown",
   "metadata": {
    "id": "xQu1uJqDwW00"
   },
   "source": [
    "##Task 4\n",
    "Write a function that displays all words having length greater than 5."
   ]
  },
  {
   "cell_type": "code",
   "execution_count": null,
   "metadata": {
    "id": "QS8LuhQvwnbL"
   },
   "outputs": [],
   "source": [
    "def GreaterThan5(fileName):\n",
    "\n",
    "\n",
    "    #Write your logic here\n",
    "\n",
    "\n"
   ]
  },
  {
   "cell_type": "code",
   "execution_count": null,
   "metadata": {
    "id": "3K4JoLYrws-M"
   },
   "outputs": [],
   "source": [
    " GreaterThan5(fileName)"
   ]
  },
  {
   "cell_type": "markdown",
   "metadata": {
    "id": "m5Lc-EQuwxRj"
   },
   "source": [
    "##Task 5\n",
    "Write a function that returns the count of all words which end at y."
   ]
  },
  {
   "cell_type": "code",
   "execution_count": null,
   "metadata": {
    "id": "dJzEZ9AFxKul"
   },
   "outputs": [],
   "source": [
    "def EndAty(filename):\n",
    "\n",
    "\n",
    "  #Write your logic here\n",
    "\n",
    "\n",
    "\n",
    "  return yEnding\n"
   ]
  },
  {
   "cell_type": "code",
   "execution_count": null,
   "metadata": {
    "id": "Hkrp_W4sxPDc"
   },
   "outputs": [],
   "source": [
    "w = EndAty(filename)\n",
    "w"
   ]
  },
  {
   "cell_type": "markdown",
   "metadata": {
    "id": "DxvGHnwaxS9u"
   },
   "source": [
    "##Task 6\n",
    "Write a function that prints the count of lowercase letters in the file."
   ]
  },
  {
   "cell_type": "code",
   "execution_count": null,
   "metadata": {
    "id": "LuCPakz4xYuC"
   },
   "outputs": [],
   "source": [
    "def CountLower(filename):\n",
    "\n",
    "\n",
    "    #Write your logic here\n",
    "\n",
    "\n"
   ]
  },
  {
   "cell_type": "code",
   "execution_count": null,
   "metadata": {
    "id": "7mB_Cx0CxdXb"
   },
   "outputs": [],
   "source": [
    "CountLower(filename)"
   ]
  },
  {
   "cell_type": "markdown",
   "metadata": {
    "id": "tzAQ3voGxenV"
   },
   "source": []
  },
  {
   "cell_type": "code",
   "execution_count": null,
   "metadata": {
    "id": "EEY79-N1xeUT"
   },
   "outputs": [],
   "source": [
    "\n",
    "\n",
    "\n"
   ]
  },
  {
   "cell_type": "code",
   "execution_count": null,
   "metadata": {
    "id": "paxgYJEkxo73"
   },
   "outputs": [],
   "source": []
  },
  {
   "cell_type": "markdown",
   "metadata": {
    "id": "gHtVLQzHxqDa"
   },
   "source": [
    "##Task 7\n",
    "Write a function ZICount() that prints the count of all occurences of Z and I (including small cases z and i too)\n",
    "For example: Hi! I am Zenia. It was so good to see you! \n",
    "####Output: \n",
    "I or i : 4\n",
    "\n",
    "Z or z : 1\n"
   ]
  },
  {
   "cell_type": "code",
   "execution_count": null,
   "metadata": {
    "id": "AzuW9kPmxpvS"
   },
   "outputs": [],
   "source": [
    "def ZICount(filename):\n",
    "\n",
    "\n",
    "    #Write your logic here\n",
    "\n",
    "\n"
   ]
  },
  {
   "cell_type": "code",
   "execution_count": null,
   "metadata": {
    "id": "hRqosNj-yE1s"
   },
   "outputs": [],
   "source": [
    "ZICount(filename)\n"
   ]
  },
  {
   "cell_type": "markdown",
   "metadata": {
    "id": "pcwK-ALVyHlQ"
   },
   "source": [
    "##Task 8\n",
    "Write a function to display the content of a file in descending order (based on the word count)\n",
    "\n",
    "Content: I am confused to start it but it won't be done until I give it a try\n",
    "\n",
    "Output: I it to a am be confused done give start try until wont.\n"
   ]
  },
  {
   "cell_type": "code",
   "execution_count": null,
   "metadata": {
    "id": "YShxmMDFyLbw"
   },
   "outputs": [],
   "source": [
    "def CountAsc(filename):\n",
    "\n",
    "\n",
    "    #Write your logic here\n",
    "\n",
    "\n"
   ]
  },
  {
   "cell_type": "code",
   "execution_count": null,
   "metadata": {
    "id": "m7Erk1_0yYkm"
   },
   "outputs": [],
   "source": [
    "CountAsc(filename)"
   ]
  },
  {
   "cell_type": "markdown",
   "metadata": {
    "id": "rjdfcoodyZSl"
   },
   "source": [
    "##Task 9\n",
    "Perform lemmatisation on the given file and generate a txt file named Rollnumber_lemmatized.txt having all content of the given file.\n",
    "\n",
    "\n"
   ]
  },
  {
   "cell_type": "code",
   "execution_count": null,
   "metadata": {
    "id": "9uG9Nid_ygSJ"
   },
   "outputs": [],
   "source": [
    "\n",
    "\n",
    "\n",
    "    #Write your logic here\n",
    "\n",
    "\n"
   ]
  },
  {
   "cell_type": "code",
   "execution_count": null,
   "metadata": {
    "id": "uxkfWjC6ymnd"
   },
   "outputs": [],
   "source": [
    "\n"
   ]
  },
  {
   "cell_type": "code",
   "execution_count": null,
   "metadata": {},
   "outputs": [],
   "source": [
    "##Task 10\n",
    "Perform stemming on the given file and generate a txt file named Rollnumber_stemming.txt having all content of the given file.\n",
    "\n"
   ]
  },
  {
   "cell_type": "code",
   "execution_count": null,
   "metadata": {},
   "outputs": [],
   "source": [
    "    #Write your logic here\n"
   ]
  },
  {
   "cell_type": "markdown",
   "metadata": {
    "id": "PYediyB6ynU3"
   },
   "source": [
    "#                             GOOD LUCK!"
   ]
  }
 ],
 "metadata": {
  "colab": {
   "collapsed_sections": [],
   "name": "RollNumber01.ipynb",
   "provenance": []
  },
  "kernelspec": {
   "display_name": "Python 3 (ipykernel)",
   "language": "python",
   "name": "python3"
  },
  "language_info": {
   "codemirror_mode": {
    "name": "ipython",
    "version": 3
   },
   "file_extension": ".py",
   "mimetype": "text/x-python",
   "name": "python",
   "nbconvert_exporter": "python",
   "pygments_lexer": "ipython3",
   "version": "3.9.7"
  }
 },
 "nbformat": 4,
 "nbformat_minor": 1
}
